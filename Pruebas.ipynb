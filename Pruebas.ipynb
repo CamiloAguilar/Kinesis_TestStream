{
 "cells": [
  {
   "cell_type": "code",
   "execution_count": 2,
   "metadata": {},
   "outputs": [],
   "source": [
    "import requests\n",
    "from requests.auth import HTTPBasicAuth\n",
    "import json"
   ]
  },
  {
   "cell_type": "code",
   "execution_count": 19,
   "metadata": {},
   "outputs": [],
   "source": [
    "class Users():\n",
    "    def __init__(self, user, password, interval, count):\n",
    "            self.base = \"http://0.0.0.0:12345\"\n",
    "            self.route = \"/api/v1/users.json\"\n",
    "            self.url = self.base + self.route\n",
    "            self.user = user\n",
    "            self.password = password\n",
    "            self.interval = interval\n",
    "            self.count = count\n",
    "            self.headers = {\n",
    "                        'Accept': 'application/json',\n",
    "                        'Content-type': 'application/json',\n",
    "                        'Cache-Control': 'no-cache',\n",
    "                        }\n",
    "            self.settings = {\n",
    "                            'interval': '{}'.format(self.interval),\n",
    "                            'count':'{}'.format(self.count)\n",
    "                            }\n",
    "    def list(self):\n",
    "            x = requests.get(\n",
    "                self.url,\n",
    "                stream = True,\n",
    "                params = self.settings,\n",
    "                auth = HTTPBasicAuth(self.user, self.password),\n",
    "                headers = self.headers)\n",
    "            return x"
   ]
  },
  {
   "cell_type": "code",
   "execution_count": 20,
   "metadata": {},
   "outputs": [],
   "source": [
    "yo = Users('Administrator', '1013596884', 30, 1)"
   ]
  },
  {
   "cell_type": "code",
   "execution_count": 26,
   "metadata": {},
   "outputs": [
    {
     "data": {
      "text/plain": [
       "'30'"
      ]
     },
     "execution_count": 26,
     "metadata": {},
     "output_type": "execute_result"
    }
   ],
   "source": [
    "yo.settings['interval']"
   ]
  },
  {
   "cell_type": "code",
   "execution_count": 27,
   "metadata": {},
   "outputs": [],
   "source": [
    "from lib.users import Users"
   ]
  },
  {
   "cell_type": "code",
   "execution_count": 28,
   "metadata": {},
   "outputs": [
    {
     "data": {
      "text/plain": [
       "lib.users.Users"
      ]
     },
     "execution_count": 28,
     "metadata": {},
     "output_type": "execute_result"
    }
   ],
   "source": [
    "Users"
   ]
  },
  {
   "cell_type": "code",
   "execution_count": 31,
   "metadata": {},
   "outputs": [],
   "source": [
    "from boto import kinesis"
   ]
  },
  {
   "cell_type": "code",
   "execution_count": null,
   "metadata": {},
   "outputs": [],
   "source": []
  },
  {
   "cell_type": "code",
   "execution_count": null,
   "metadata": {},
   "outputs": [],
   "source": []
  },
  {
   "cell_type": "code",
   "execution_count": null,
   "metadata": {},
   "outputs": [],
   "source": []
  },
  {
   "cell_type": "code",
   "execution_count": null,
   "metadata": {},
   "outputs": [],
   "source": []
  },
  {
   "cell_type": "code",
   "execution_count": 33,
   "metadata": {},
   "outputs": [
    {
     "name": "stdout",
     "output_type": "stream",
     "text": [
      "b'{\"login\":\"CamiloAguilar\",\"id\":10548753,\"node_id\":\"MDQ6VXNlcjEwNTQ4NzUz\",\"avatar_url\":\"https://avatars3.githubusercontent.com/u/10548753?v=4\",\"gravatar_id\":\"\",\"url\":\"https://api.github.com/users/CamiloAguilar\",\"html_url\":\"https://github.com/CamiloAguilar\",\"followers_url\":\"https://api.github.com/users/CamiloAguilar/followers\",\"following_url\":\"https://api.github.com/users/CamiloAguilar/following{/other_user}\",\"gists_url\":\"https://api.github.com/users/CamiloAguilar/gists{/gist_id}\",\"starred_url\":\"https://api.github.com/users/CamiloAguilar/starred{/owner}{/repo}\",\"subscriptions_url\":\"https://api.github.com/users/CamiloAguilar/subscriptions\",\"organizations_url\":\"https://api.github.com/users/CamiloAguilar/orgs\",\"repos_url\":\"https://api.github.com/users/CamiloAguilar/repos\",\"events_url\":\"https://api.github.com/users/CamiloAguilar/events{/privacy}\",\"received_events_url\":\"https://api.github.com/users/CamiloAguilar/received_events\",\"type\":\"User\",\"site_admin\":false,\"name\":\"Camilo Aguilar\",\"company\":null,\"blog\":\"\",\"location\":\"Bogot\\xc3\\xa1\",\"email\":\"aguilarcamiloa@gmail.com\",\"hireable\":true,\"bio\":\"Data Scientist | Python - R\",\"public_repos\":71,\"public_gists\":0,\"followers\":9,\"following\":8,\"created_at\":\"2015-01-15T15:22:01Z\",\"updated_at\":\"2019-04-26T17:11:43Z\",\"private_gists\":0,\"total_private_repos\":0,\"owned_private_repos\":0,\"disk_usage\":847698,\"collaborators\":0,\"two_factor_authentication\":false,\"plan\":{\"name\":\"free\",\"space\":976562499,\"collaborators\":0,\"private_repos\":10000}}' \n",
      "\n"
     ]
    }
   ],
   "source": [
    "from lib.users import Users\n",
    "import json\n",
    "from boto import kinesis\n",
    "\n",
    "aws_region = \"us-west-2\"\n",
    "user = \"aguilarcamiloa@gmail.com\"\n",
    "password = \"C@milo2011bak3\"\n",
    "interval = 1500\n",
    "count = 100\n",
    "stream_name = \"TestStream\"\n",
    "\n",
    "u = Users(user, password, interval, count)\n",
    "x = u.list()\n",
    "for line in x.iter_lines():\n",
    "        kinesis = kinesis.connect_to_region(aws_region)\n",
    "        kinesis.put_record(stream_name, line, \"partitionkey\")\n",
    "        if line:\n",
    "            print (line, '\\n')"
   ]
  },
  {
   "cell_type": "code",
   "execution_count": 32,
   "metadata": {},
   "outputs": [
    {
     "ename": "StreamConsumedError",
     "evalue": "",
     "output_type": "error",
     "traceback": [
      "\u001b[1;31m---------------------------------------------------------------------------\u001b[0m",
      "\u001b[1;31mStreamConsumedError\u001b[0m                       Traceback (most recent call last)",
      "\u001b[1;32m<ipython-input-32-b7a802e1d497>\u001b[0m in \u001b[0;36m<module>\u001b[1;34m()\u001b[0m\n\u001b[1;32m----> 1\u001b[1;33m \u001b[1;33m[\u001b[0m\u001b[0mi\u001b[0m \u001b[1;32mfor\u001b[0m \u001b[0mi\u001b[0m \u001b[1;32min\u001b[0m \u001b[0mx\u001b[0m\u001b[1;33m.\u001b[0m\u001b[0miter_lines\u001b[0m\u001b[1;33m(\u001b[0m\u001b[1;33m)\u001b[0m\u001b[1;33m]\u001b[0m\u001b[1;33m\u001b[0m\u001b[0m\n\u001b[0m",
      "\u001b[1;32m<ipython-input-32-b7a802e1d497>\u001b[0m in \u001b[0;36m<listcomp>\u001b[1;34m(.0)\u001b[0m\n\u001b[1;32m----> 1\u001b[1;33m \u001b[1;33m[\u001b[0m\u001b[0mi\u001b[0m \u001b[1;32mfor\u001b[0m \u001b[0mi\u001b[0m \u001b[1;32min\u001b[0m \u001b[0mx\u001b[0m\u001b[1;33m.\u001b[0m\u001b[0miter_lines\u001b[0m\u001b[1;33m(\u001b[0m\u001b[1;33m)\u001b[0m\u001b[1;33m]\u001b[0m\u001b[1;33m\u001b[0m\u001b[0m\n\u001b[0m",
      "\u001b[1;32mc:\\users\\c804324\\appdata\\local\\programs\\python\\python36\\lib\\site-packages\\requests\\models.py\u001b[0m in \u001b[0;36miter_lines\u001b[1;34m(self, chunk_size, decode_unicode, delimiter)\u001b[0m\n\u001b[0;32m    791\u001b[0m         \u001b[0mpending\u001b[0m \u001b[1;33m=\u001b[0m \u001b[1;32mNone\u001b[0m\u001b[1;33m\u001b[0m\u001b[0m\n\u001b[0;32m    792\u001b[0m \u001b[1;33m\u001b[0m\u001b[0m\n\u001b[1;32m--> 793\u001b[1;33m         \u001b[1;32mfor\u001b[0m \u001b[0mchunk\u001b[0m \u001b[1;32min\u001b[0m \u001b[0mself\u001b[0m\u001b[1;33m.\u001b[0m\u001b[0miter_content\u001b[0m\u001b[1;33m(\u001b[0m\u001b[0mchunk_size\u001b[0m\u001b[1;33m=\u001b[0m\u001b[0mchunk_size\u001b[0m\u001b[1;33m,\u001b[0m \u001b[0mdecode_unicode\u001b[0m\u001b[1;33m=\u001b[0m\u001b[0mdecode_unicode\u001b[0m\u001b[1;33m)\u001b[0m\u001b[1;33m:\u001b[0m\u001b[1;33m\u001b[0m\u001b[0m\n\u001b[0m\u001b[0;32m    794\u001b[0m \u001b[1;33m\u001b[0m\u001b[0m\n\u001b[0;32m    795\u001b[0m             \u001b[1;32mif\u001b[0m \u001b[0mpending\u001b[0m \u001b[1;32mis\u001b[0m \u001b[1;32mnot\u001b[0m \u001b[1;32mNone\u001b[0m\u001b[1;33m:\u001b[0m\u001b[1;33m\u001b[0m\u001b[0m\n",
      "\u001b[1;32mc:\\users\\c804324\\appdata\\local\\programs\\python\\python36\\lib\\site-packages\\requests\\models.py\u001b[0m in \u001b[0;36miter_content\u001b[1;34m(self, chunk_size, decode_unicode)\u001b[0m\n\u001b[0;32m    766\u001b[0m \u001b[1;33m\u001b[0m\u001b[0m\n\u001b[0;32m    767\u001b[0m         \u001b[1;32mif\u001b[0m \u001b[0mself\u001b[0m\u001b[1;33m.\u001b[0m\u001b[0m_content_consumed\u001b[0m \u001b[1;32mand\u001b[0m \u001b[0misinstance\u001b[0m\u001b[1;33m(\u001b[0m\u001b[0mself\u001b[0m\u001b[1;33m.\u001b[0m\u001b[0m_content\u001b[0m\u001b[1;33m,\u001b[0m \u001b[0mbool\u001b[0m\u001b[1;33m)\u001b[0m\u001b[1;33m:\u001b[0m\u001b[1;33m\u001b[0m\u001b[0m\n\u001b[1;32m--> 768\u001b[1;33m             \u001b[1;32mraise\u001b[0m \u001b[0mStreamConsumedError\u001b[0m\u001b[1;33m(\u001b[0m\u001b[1;33m)\u001b[0m\u001b[1;33m\u001b[0m\u001b[0m\n\u001b[0m\u001b[0;32m    769\u001b[0m         \u001b[1;32melif\u001b[0m \u001b[0mchunk_size\u001b[0m \u001b[1;32mis\u001b[0m \u001b[1;32mnot\u001b[0m \u001b[1;32mNone\u001b[0m \u001b[1;32mand\u001b[0m \u001b[1;32mnot\u001b[0m \u001b[0misinstance\u001b[0m\u001b[1;33m(\u001b[0m\u001b[0mchunk_size\u001b[0m\u001b[1;33m,\u001b[0m \u001b[0mint\u001b[0m\u001b[1;33m)\u001b[0m\u001b[1;33m:\u001b[0m\u001b[1;33m\u001b[0m\u001b[0m\n\u001b[0;32m    770\u001b[0m             \u001b[1;32mraise\u001b[0m \u001b[0mTypeError\u001b[0m\u001b[1;33m(\u001b[0m\u001b[1;34m\"chunk_size must be an int, it is instead a %s.\"\u001b[0m \u001b[1;33m%\u001b[0m \u001b[0mtype\u001b[0m\u001b[1;33m(\u001b[0m\u001b[0mchunk_size\u001b[0m\u001b[1;33m)\u001b[0m\u001b[1;33m)\u001b[0m\u001b[1;33m\u001b[0m\u001b[0m\n",
      "\u001b[1;31mStreamConsumedError\u001b[0m: "
     ]
    }
   ],
   "source": [
    "[i for i in x.iter_lines()]"
   ]
  },
  {
   "cell_type": "code",
   "execution_count": null,
   "metadata": {},
   "outputs": [],
   "source": []
  },
  {
   "cell_type": "code",
   "execution_count": null,
   "metadata": {},
   "outputs": [],
   "source": []
  },
  {
   "cell_type": "code",
   "execution_count": 34,
   "metadata": {},
   "outputs": [],
   "source": [
    "from boto import kinesis\n",
    "import time\n",
    "\n",
    "\n",
    "kinesis = kinesis.connect_to_region(\"us-west-2\")\n",
    "stream_name = \"TestStream\""
   ]
  },
  {
   "cell_type": "code",
   "execution_count": 47,
   "metadata": {},
   "outputs": [
    {
     "data": {
      "text/plain": [
       "{'StreamDescription': {'EncryptionType': 'NONE',\n",
       "  'EnhancedMonitoring': [{'ShardLevelMetrics': []}],\n",
       "  'HasMoreShards': False,\n",
       "  'RetentionPeriodHours': 24,\n",
       "  'Shards': [{'HashKeyRange': {'EndingHashKey': '340282366920938463463374607431768211455',\n",
       "     'StartingHashKey': '0'},\n",
       "    'SequenceNumberRange': {'StartingSequenceNumber': '49596454524758706160307275079697372537066901325505101826'},\n",
       "    'ShardId': 'shardId-000000000000'}],\n",
       "  'StreamARN': 'arn:aws:kinesis:us-west-2:733097393942:stream/TestStream',\n",
       "  'StreamCreationTimestamp': 1559917654.0,\n",
       "  'StreamName': 'TestStream',\n",
       "  'StreamStatus': 'ACTIVE'}}"
      ]
     },
     "execution_count": 47,
     "metadata": {},
     "output_type": "execute_result"
    }
   ],
   "source": [
    "kinesis.describe_stream(stream_name)"
   ]
  },
  {
   "cell_type": "code",
   "execution_count": 51,
   "metadata": {},
   "outputs": [
    {
     "data": {
      "text/plain": [
       "'shardId-000000000000'"
      ]
     },
     "execution_count": 51,
     "metadata": {},
     "output_type": "execute_result"
    }
   ],
   "source": [
    "shard_id = kinesis.describe_stream(stream_name)['StreamDescription']['Shards'][0]['ShardId']\n",
    "shard_id"
   ]
  },
  {
   "cell_type": "code",
   "execution_count": 53,
   "metadata": {},
   "outputs": [
    {
     "data": {
      "text/plain": [
       "'AAAAAAAAAAGwbnS0gfNwZgZZ20ZQLSNVpUaQ9RBLOqkuSwUBuKeTTPqMOHUTCNaWjWIyW4ruvKWUeyLv0ZHmurhbk84RpVEq+uGtwEP/vxCdfanAUFIgSUq6nkaXQT9BtP1HjnxDHSfE8zIJ+9LInF93+w/5Ro/9TdkmT77gnCgEolX3wEzqpV9a0i6K5PvIxH0JAGUpOfLj7o5OEOOaRrwp9cEugLgW'"
      ]
     },
     "execution_count": 53,
     "metadata": {},
     "output_type": "execute_result"
    }
   ],
   "source": [
    "shard_it = kinesis.get_shard_iterator(stream_name, shard_id, \"LATEST\")[\"ShardIterator\"]\n",
    "shard_it"
   ]
  },
  {
   "cell_type": "code",
   "execution_count": 56,
   "metadata": {},
   "outputs": [
    {
     "data": {
      "text/plain": [
       "{'MillisBehindLatest': 28000,\n",
       " 'NextShardIterator': 'AAAAAAAAAAGcYcjnXQethPH7u79NQD3oBE+BhzFzhja8v4DQ0J9dtlKp3z+yBqlIj0rEVD48rqPzr8vpMedje8yuscGTqtDALBXX3c/5ShWFg2LJBeVJmXMSLctRcb+DnJrdJeJkVR/GOCZY2PUJki34ligNaIo0A3ZDH22wt/xOLDhcm00bwzV+bGc6BcG4HLLRxz0kQasPE9m3aJb0Mwdj/ix8nyWJ',\n",
       " 'Records': [{'ApproximateArrivalTimestamp': 1559937920.922,\n",
       "   'Data': '{\"login\":\"CamiloAguilar\",\"id\":10548753,\"node_id\":\"MDQ6VXNlcjEwNTQ4NzUz\",\"avatar_url\":\"https://avatars3.githubusercontent.com/u/10548753?v=4\",\"gravatar_id\":\"\",\"url\":\"https://api.github.com/users/CamiloAguilar\",\"html_url\":\"https://github.com/CamiloAguilar\",\"followers_url\":\"https://api.github.com/users/CamiloAguilar/followers\",\"following_url\":\"https://api.github.com/users/CamiloAguilar/following{/other_user}\",\"gists_url\":\"https://api.github.com/users/CamiloAguilar/gists{/gist_id}\",\"starred_url\":\"https://api.github.com/users/CamiloAguilar/starred{/owner}{/repo}\",\"subscriptions_url\":\"https://api.github.com/users/CamiloAguilar/subscriptions\",\"organizations_url\":\"https://api.github.com/users/CamiloAguilar/orgs\",\"repos_url\":\"https://api.github.com/users/CamiloAguilar/repos\",\"events_url\":\"https://api.github.com/users/CamiloAguilar/events{/privacy}\",\"received_events_url\":\"https://api.github.com/users/CamiloAguilar/received_events\",\"type\":\"User\",\"site_admin\":false,\"name\":\"Camilo Aguilar\",\"company\":null,\"blog\":\"\",\"location\":\"Bogotá\",\"email\":\"aguilarcamiloa@gmail.com\",\"hireable\":true,\"bio\":\"Data Scientist | Python - R\",\"public_repos\":71,\"public_gists\":0,\"followers\":9,\"following\":8,\"created_at\":\"2015-01-15T15:22:01Z\",\"updated_at\":\"2019-04-26T17:11:43Z\",\"private_gists\":0,\"total_private_repos\":0,\"owned_private_repos\":0,\"disk_usage\":847698,\"collaborators\":0,\"two_factor_authentication\":false,\"plan\":{\"name\":\"free\",\"space\":976562499,\"collaborators\":0,\"private_repos\":10000}}',\n",
       "   'PartitionKey': 'partitionkey',\n",
       "   'SequenceNumber': '49596454524758706160307280870843740456697180895766904834'},\n",
       "  {'ApproximateArrivalTimestamp': 1559937928.663,\n",
       "   'Data': '{\"login\":\"CamiloAguilar\",\"id\":10548753,\"node_id\":\"MDQ6VXNlcjEwNTQ4NzUz\",\"avatar_url\":\"https://avatars3.githubusercontent.com/u/10548753?v=4\",\"gravatar_id\":\"\",\"url\":\"https://api.github.com/users/CamiloAguilar\",\"html_url\":\"https://github.com/CamiloAguilar\",\"followers_url\":\"https://api.github.com/users/CamiloAguilar/followers\",\"following_url\":\"https://api.github.com/users/CamiloAguilar/following{/other_user}\",\"gists_url\":\"https://api.github.com/users/CamiloAguilar/gists{/gist_id}\",\"starred_url\":\"https://api.github.com/users/CamiloAguilar/starred{/owner}{/repo}\",\"subscriptions_url\":\"https://api.github.com/users/CamiloAguilar/subscriptions\",\"organizations_url\":\"https://api.github.com/users/CamiloAguilar/orgs\",\"repos_url\":\"https://api.github.com/users/CamiloAguilar/repos\",\"events_url\":\"https://api.github.com/users/CamiloAguilar/events{/privacy}\",\"received_events_url\":\"https://api.github.com/users/CamiloAguilar/received_events\",\"type\":\"User\",\"site_admin\":false,\"name\":\"Camilo Aguilar\",\"company\":null,\"blog\":\"\",\"location\":\"Bogotá\",\"email\":\"aguilarcamiloa@gmail.com\",\"hireable\":true,\"bio\":\"Data Scientist | Python - R\",\"public_repos\":71,\"public_gists\":0,\"followers\":9,\"following\":8,\"created_at\":\"2015-01-15T15:22:01Z\",\"updated_at\":\"2019-04-26T17:11:43Z\",\"private_gists\":0,\"total_private_repos\":0,\"owned_private_repos\":0,\"disk_usage\":847698,\"collaborators\":0,\"two_factor_authentication\":false,\"plan\":{\"name\":\"free\",\"space\":976562499,\"collaborators\":0,\"private_repos\":10000}}',\n",
       "   'PartitionKey': 'partitionkey',\n",
       "   'SequenceNumber': '49596454524758706160307280873957933368024466130846351362'}]}"
      ]
     },
     "execution_count": 56,
     "metadata": {},
     "output_type": "execute_result"
    }
   ],
   "source": [
    "out = kinesis.get_records(shard_it, limit=2)\n",
    "out"
   ]
  },
  {
   "cell_type": "code",
   "execution_count": 66,
   "metadata": {},
   "outputs": [
    {
     "data": {
      "text/plain": [
       "{'ApproximateArrivalTimestamp': 1559937920.922,\n",
       " 'Data': '{\"login\":\"CamiloAguilar\",\"id\":10548753,\"node_id\":\"MDQ6VXNlcjEwNTQ4NzUz\",\"avatar_url\":\"https://avatars3.githubusercontent.com/u/10548753?v=4\",\"gravatar_id\":\"\",\"url\":\"https://api.github.com/users/CamiloAguilar\",\"html_url\":\"https://github.com/CamiloAguilar\",\"followers_url\":\"https://api.github.com/users/CamiloAguilar/followers\",\"following_url\":\"https://api.github.com/users/CamiloAguilar/following{/other_user}\",\"gists_url\":\"https://api.github.com/users/CamiloAguilar/gists{/gist_id}\",\"starred_url\":\"https://api.github.com/users/CamiloAguilar/starred{/owner}{/repo}\",\"subscriptions_url\":\"https://api.github.com/users/CamiloAguilar/subscriptions\",\"organizations_url\":\"https://api.github.com/users/CamiloAguilar/orgs\",\"repos_url\":\"https://api.github.com/users/CamiloAguilar/repos\",\"events_url\":\"https://api.github.com/users/CamiloAguilar/events{/privacy}\",\"received_events_url\":\"https://api.github.com/users/CamiloAguilar/received_events\",\"type\":\"User\",\"site_admin\":false,\"name\":\"Camilo Aguilar\",\"company\":null,\"blog\":\"\",\"location\":\"Bogotá\",\"email\":\"aguilarcamiloa@gmail.com\",\"hireable\":true,\"bio\":\"Data Scientist | Python - R\",\"public_repos\":71,\"public_gists\":0,\"followers\":9,\"following\":8,\"created_at\":\"2015-01-15T15:22:01Z\",\"updated_at\":\"2019-04-26T17:11:43Z\",\"private_gists\":0,\"total_private_repos\":0,\"owned_private_repos\":0,\"disk_usage\":847698,\"collaborators\":0,\"two_factor_authentication\":false,\"plan\":{\"name\":\"free\",\"space\":976562499,\"collaborators\":0,\"private_repos\":10000}}',\n",
       " 'PartitionKey': 'partitionkey',\n",
       " 'SequenceNumber': '49596454524758706160307280870843740456697180895766904834'}"
      ]
     },
     "execution_count": 66,
     "metadata": {},
     "output_type": "execute_result"
    }
   ],
   "source": [
    "out['Records'][0]"
   ]
  },
  {
   "cell_type": "code",
   "execution_count": 68,
   "metadata": {},
   "outputs": [
    {
     "data": {
      "text/plain": [
       "'{\"login\":\"CamiloAguilar\",\"id\":10548753,\"node_id\":\"MDQ6VXNlcjEwNTQ4NzUz\",\"avatar_url\":\"https://avatars3.githubusercontent.com/u/10548753?v=4\",\"gravatar_id\":\"\",\"url\":\"https://api.github.com/users/CamiloAguilar\",\"html_url\":\"https://github.com/CamiloAguilar\",\"followers_url\":\"https://api.github.com/users/CamiloAguilar/followers\",\"following_url\":\"https://api.github.com/users/CamiloAguilar/following{/other_user}\",\"gists_url\":\"https://api.github.com/users/CamiloAguilar/gists{/gist_id}\",\"starred_url\":\"https://api.github.com/users/CamiloAguilar/starred{/owner}{/repo}\",\"subscriptions_url\":\"https://api.github.com/users/CamiloAguilar/subscriptions\",\"organizations_url\":\"https://api.github.com/users/CamiloAguilar/orgs\",\"repos_url\":\"https://api.github.com/users/CamiloAguilar/repos\",\"events_url\":\"https://api.github.com/users/CamiloAguilar/events{/privacy}\",\"received_events_url\":\"https://api.github.com/users/CamiloAguilar/received_events\",\"type\":\"User\",\"site_admin\":false,\"name\":\"Camilo Aguilar\",\"company\":null,\"blog\":\"\",\"location\":\"Bogotá\",\"email\":\"aguilarcamiloa@gmail.com\",\"hireable\":true,\"bio\":\"Data Scientist | Python - R\",\"public_repos\":71,\"public_gists\":0,\"followers\":9,\"following\":8,\"created_at\":\"2015-01-15T15:22:01Z\",\"updated_at\":\"2019-04-26T17:11:43Z\",\"private_gists\":0,\"total_private_repos\":0,\"owned_private_repos\":0,\"disk_usage\":847698,\"collaborators\":0,\"two_factor_authentication\":false,\"plan\":{\"name\":\"free\",\"space\":976562499,\"collaborators\":0,\"private_repos\":10000}}'"
      ]
     },
     "execution_count": 68,
     "metadata": {},
     "output_type": "execute_result"
    }
   ],
   "source": [
    "out['Records'][1]['Data']"
   ]
  },
  {
   "cell_type": "code",
   "execution_count": 69,
   "metadata": {},
   "outputs": [
    {
     "data": {
      "text/plain": [
       "str"
      ]
     },
     "execution_count": 69,
     "metadata": {},
     "output_type": "execute_result"
    }
   ],
   "source": [
    "type(out['Records'][1]['Data'])"
   ]
  },
  {
   "cell_type": "code",
   "execution_count": 71,
   "metadata": {},
   "outputs": [
    {
     "data": {
      "text/plain": [
       "{'login': 'CamiloAguilar',\n",
       " 'id': 10548753,\n",
       " 'node_id': 'MDQ6VXNlcjEwNTQ4NzUz',\n",
       " 'avatar_url': 'https://avatars3.githubusercontent.com/u/10548753?v=4',\n",
       " 'gravatar_id': '',\n",
       " 'url': 'https://api.github.com/users/CamiloAguilar',\n",
       " 'html_url': 'https://github.com/CamiloAguilar',\n",
       " 'followers_url': 'https://api.github.com/users/CamiloAguilar/followers',\n",
       " 'following_url': 'https://api.github.com/users/CamiloAguilar/following{/other_user}',\n",
       " 'gists_url': 'https://api.github.com/users/CamiloAguilar/gists{/gist_id}',\n",
       " 'starred_url': 'https://api.github.com/users/CamiloAguilar/starred{/owner}{/repo}',\n",
       " 'subscriptions_url': 'https://api.github.com/users/CamiloAguilar/subscriptions',\n",
       " 'organizations_url': 'https://api.github.com/users/CamiloAguilar/orgs',\n",
       " 'repos_url': 'https://api.github.com/users/CamiloAguilar/repos',\n",
       " 'events_url': 'https://api.github.com/users/CamiloAguilar/events{/privacy}',\n",
       " 'received_events_url': 'https://api.github.com/users/CamiloAguilar/received_events',\n",
       " 'type': 'User',\n",
       " 'site_admin': False,\n",
       " 'name': 'Camilo Aguilar',\n",
       " 'company': None,\n",
       " 'blog': '',\n",
       " 'location': 'Bogotá',\n",
       " 'email': 'aguilarcamiloa@gmail.com',\n",
       " 'hireable': True,\n",
       " 'bio': 'Data Scientist | Python - R',\n",
       " 'public_repos': 71,\n",
       " 'public_gists': 0,\n",
       " 'followers': 9,\n",
       " 'following': 8,\n",
       " 'created_at': '2015-01-15T15:22:01Z',\n",
       " 'updated_at': '2019-04-26T17:11:43Z',\n",
       " 'private_gists': 0,\n",
       " 'total_private_repos': 0,\n",
       " 'owned_private_repos': 0,\n",
       " 'disk_usage': 847698,\n",
       " 'collaborators': 0,\n",
       " 'two_factor_authentication': False,\n",
       " 'plan': {'name': 'free',\n",
       "  'space': 976562499,\n",
       "  'collaborators': 0,\n",
       "  'private_repos': 10000}}"
      ]
     },
     "execution_count": 71,
     "metadata": {},
     "output_type": "execute_result"
    }
   ],
   "source": [
    "python_dict = json.loads(out['Records'][1]['Data'])\n",
    "python_dict"
   ]
  },
  {
   "cell_type": "code",
   "execution_count": null,
   "metadata": {},
   "outputs": [],
   "source": []
  }
 ],
 "metadata": {
  "kernelspec": {
   "display_name": "Python 3",
   "language": "python",
   "name": "python3"
  },
  "language_info": {
   "codemirror_mode": {
    "name": "ipython",
    "version": 3
   },
   "file_extension": ".py",
   "mimetype": "text/x-python",
   "name": "python",
   "nbconvert_exporter": "python",
   "pygments_lexer": "ipython3",
   "version": "3.6.5"
  }
 },
 "nbformat": 4,
 "nbformat_minor": 2
}
